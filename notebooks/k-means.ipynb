{
 "cells": [
  {
   "cell_type": "code",
   "execution_count": null,
   "metadata": {},
   "outputs": [],
   "source": [
    "# Começamos importando algumas bibliotecas.\n",
    "import numpy as np\n",
    "import pandas as pd\n",
    "import matplotlib.pyplot as plt\n",
    "from sklearn.decomposition import PCA\n",
    "from random import sample\n",
    "from math import sqrt"
   ]
  },
  {
   "cell_type": "code",
   "execution_count": null,
   "metadata": {},
   "outputs": [],
   "source": [
    "# Caso você não possua alguma destas bibliotecas, execute o comando abaixo\n",
    "!pip install numpy pandas matplotlib scikit-learn --user"
   ]
  },
  {
   "cell_type": "markdown",
   "metadata": {},
   "source": [
    "# Métodos de agrupamento: K-means\n",
    "\n",
    "Nesta atividade, vamos implementar um método de agrupamento simples conhecido como K-means (https://en.wikipedia.org/wiki/K-means_clustering). O objetivo do algoritmo é separar um conjunto de pontos em K grupos diferentes. Normalmente você deve conhecer o valor correto de K e passar como parâmetro para o algoritmo. No nosso caso, vamos passar o valor K=5, que corresponde ao número de grupos ancestrais nos dados genéticos apresentados na aula passada: \"África, América, Ásia, Europa, Quilombolas\".\n",
    "\n",
    "Você pode ver um exemplo de execução do algoritmo em um conjunto de dados aleatório no vídeo https://www.youtube.com/watch?v=5I3Ei69I40s e interagir com um exemplo interativo em http://stanford.edu/class/ee103/visualizations/kmeans/kmeans.html."
   ]
  },
  {
   "cell_type": "markdown",
   "metadata": {},
   "source": [
    "## Passo 1: Carregar o conjunto de dados\n",
    "\n",
    "Utilizamos o Pandas para carregar o dataframe a partir de um arquivo no Github. Vamos carregar estes dados e remover a coluna de \"continentes\", já que queremos que o K-means descubra esta informação."
   ]
  },
  {
   "cell_type": "code",
   "execution_count": null,
   "metadata": {},
   "outputs": [],
   "source": [
    "url = 'https://raw.githubusercontent.com/fabiommendes/desenvolvimento-de-software/master/dados/populations.csv'\n",
    "dados_brutos = pd.read_csv(url, index_col=0)\n",
    "continentes = dados_brutos.pop('continent')\n",
    "\n",
    "display(dados_brutos)"
   ]
  },
  {
   "cell_type": "markdown",
   "metadata": {},
   "source": [
    "## Passo 2: Limpar o conjunto de dados\n",
    "\n",
    "Os dados brutos possuem algums elementos NaN (not a number). É necessário atribuir algum valor a estes elementos. Estude a função [fillna](https://pandas.pydata.org/pandas-docs/stable/reference/api/pandas.DataFrame.fillna.html) do Pandas para descobrir como preencher estes valores com alguma estimativa razoável. "
   ]
  },
  {
   "cell_type": "code",
   "execution_count": null,
   "metadata": {},
   "outputs": [],
   "source": [
    "# Implemente a estratégia correta de utilizar o fillna. Uma sugestão é preencher\n",
    "# o valor de cada NaN pela média da sua coluna.\n",
    "dados = dados_brutos.fillna(...)\n",
    "dados"
   ]
  },
  {
   "cell_type": "code",
   "execution_count": null,
   "metadata": {},
   "outputs": [],
   "source": [
    "assert dados.dropna().shape == (739, 46)\n",
    "assert all(tt in (float, int) for tt in dados.dtypes)"
   ]
  },
  {
   "cell_type": "markdown",
   "metadata": {},
   "source": [
    "## Passo 3: Visualização\n",
    "\n",
    "Lembra do nosso amigo [PCA](https://scikit-learn.org/stable/modules/generated/sklearn.decomposition.PCA.html)? Vamos utilizá-lo para visualizar os dados antes de continuar."
   ]
  },
  {
   "cell_type": "code",
   "execution_count": null,
   "metadata": {},
   "outputs": [],
   "source": [
    "pca = PCA(2).fit(dados)\n",
    "dados_2d = pca.transform(dados)\n",
    "\n",
    "X, Y = dados_2d.T\n",
    "plt.scatter(X, Y)\n",
    "plt.show()"
   ]
  },
  {
   "cell_type": "markdown",
   "metadata": {},
   "source": [
    "## Passo 4: Sorteando os centróides iniciais\n",
    "\n",
    "O K-means tenta encontrar K grupos diferentes, onde cada grupo é caracterizado por um vetor médio (que chamamos centróide) e cada elemento é atribuído ao centróide mais próximo. A inicialização do algoritmo é extremamente simples: basta escolher K pontos aleatoriamente.\n",
    "\n",
    "Vamos utilizar a função sample do módulo math do Python, já que ela faz exatamente isto:"
   ]
  },
  {
   "cell_type": "code",
   "execution_count": 287,
   "metadata": {},
   "outputs": [
    {
     "data": {
      "text/plain": [
       "['bar', 'foo']"
      ]
     },
     "execution_count": 287,
     "metadata": {},
     "output_type": "execute_result"
    }
   ],
   "source": [
    "sample([\"foo\", \"bar\", \"baz\"], 2)"
   ]
  },
  {
   "cell_type": "markdown",
   "metadata": {},
   "source": [
    "Adapte o código acima para escolher K = 5 indivíduos aleatoriamente da população completa. Você provavelmente terá que converter a população para um array numpy utilizando `dados.values`. "
   ]
  },
  {
   "cell_type": "code",
   "execution_count": null,
   "metadata": {},
   "outputs": [],
   "source": [
    "K = 5\n",
    "\n",
    "def sorteia_centroides(elementos, k):\n",
    "    \"\"\"\n",
    "    Escolhe aleatoriamente k elementos da lista fornecida.\n",
    "    \"\"\"\n",
    "    return sample(...)\n",
    "\n",
    "\n",
    "sorteia_centroides(dados.values, K)"
   ]
  },
  {
   "cell_type": "code",
   "execution_count": null,
   "metadata": {},
   "outputs": [],
   "source": [
    "assert sorteia_centroides([(1, 1), (1, 1)], 1) == [(1, 1)]"
   ]
  },
  {
   "cell_type": "markdown",
   "metadata": {},
   "source": [
    "## Passo 5: Calculando a distância\n",
    "\n",
    "O próximo passo consiste em determinar a distância de cada elemento para o centróide, para podermos agrupar cada ponto no seu respectivo grupo. Começamos com um objetivo um pouco mais modesto: calcular a distância entre dois pontos.\n",
    "\n",
    "Lembre-se da fórmula para dois vetores $u$, e $v$ de $n$ dimensões. \n",
    "\n",
    "$$d(\\vec u, \\vec v) = \\sqrt{\\sum_{i=0}^{n} \\left(u_i - v_i \\right)^{2}}$$\n"
   ]
  },
  {
   "cell_type": "code",
   "execution_count": null,
   "metadata": {},
   "outputs": [],
   "source": [
    "# IMPORTANTE: sua fórmula deve funcionar corretamente para vetores \n",
    "# de qualquer número de componentes\n",
    "\n",
    "def distancia(x, y):\n",
    "    # converte para array, habilitando operações matemáticas \n",
    "    # com x e y\n",
    "    x = np.asarray(x)\n",
    "    y = np.asarray(y)\n",
    "    return ...\n",
    "\n",
    "print('Distância entre vetores:', distancia((0, 3), (4, 0)))"
   ]
  },
  {
   "cell_type": "code",
   "execution_count": null,
   "metadata": {},
   "outputs": [],
   "source": [
    "assert distancia([0, 3], [4, 0]) == 5.0\n",
    "assert distancia(dados.values[0], dados.values[0]) == 0\n",
    "assert abs(distancia(dados.values[0], dados.values[1]) - 4.6904) < 1e-3"
   ]
  },
  {
   "cell_type": "markdown",
   "metadata": {},
   "source": [
    "## Passso 6: encontrando o centroide mais próximo\n",
    "\n",
    "O passo seguinte no PCA consiste em atribuir cada elemento a um centróide, sempre escolhendo o centróide mais próximo. Nós vamos fazer isto criando uma função que passa pela lista de elementos e retorna uma lista de listas onde cada uma destas listas.\n",
    "\n",
    "Antes de fazer isto, implementamos a função `mais_proximo` abaixo."
   ]
  },
  {
   "cell_type": "code",
   "execution_count": null,
   "metadata": {},
   "outputs": [],
   "source": [
    "def mais_proximo(x, centros):\n",
    "    \"\"\"\n",
    "    Retorna o índice do centroide mais próximo do elemento\n",
    "    x na lista de centros dada. \n",
    "    \"\"\"\n",
    "    \n",
    "    menor_idx = ...\n",
    "    menor_distancia = ...\n",
    "    \n",
    "    for i, centro in enumerate(centros):\n",
    "        d = distancia(x, centro)\n",
    "        ...\n",
    "        \n",
    "    return menor_idx\n",
    "    \n",
    "\n",
    "# Exemplo: o ponto (1, 2) está mais próximo de (1, 1) nos centroides abaixo\n",
    "mais_proximo((1, 2), [(0, 0), (1, 1), (5, 5), (-3, 4)])"
   ]
  },
  {
   "cell_type": "code",
   "execution_count": null,
   "metadata": {},
   "outputs": [],
   "source": [
    "assert mais_proximo((1, 2), [(0, 0), (1, 1), (5, 5), (-3, 4)]) == 1\n",
    "assert mais_proximo(dados.values[1], dados.values[:5]) == 1"
   ]
  },
  {
   "cell_type": "markdown",
   "metadata": {},
   "source": [
    "## Passo 7: Atribuindo grupos\n",
    "\n",
    "Agora vamos utilizar a nossa função `mais_proximo` para realmente distribuir os elementos em seus respectivos grupos. Implemente a função `atribui_grupos` abaixo."
   ]
  },
  {
   "cell_type": "code",
   "execution_count": null,
   "metadata": {},
   "outputs": [],
   "source": [
    "def atribui_grupos(elementos, centros):\n",
    "    \"\"\"\n",
    "    Distribui os elementos da lista dada entre os seus respectivos\n",
    "    centroides. O resultado são K listas diferentes (onde K corresponde\n",
    "    ao número de centróides). \n",
    "    \n",
    "    Cada elemento é atribuído à lista com o K mais próximo.\n",
    "    \"\"\"\n",
    "    grupos = [[] for _ in centros]\n",
    "    \n",
    "    for x in elementos:\n",
    "        idx = mais_proximo(x, centros)\n",
    "        grupos[idx].append(x)\n",
    "    return grupos\n",
    "\n",
    "# Exemplo: 2 centroides\n",
    "centros = [(1, 2), (-1, -2)]\n",
    "pontos = [(1, 1), (2, 2), (-5, -4), (0, 2), (-1, -1)]\n",
    "g1, g2 = atribui_grupos(pontos, centros)\n",
    "print('Grupo 1:', g1)\n",
    "print('Grupo 2:', g2)"
   ]
  },
  {
   "cell_type": "code",
   "execution_count": null,
   "metadata": {},
   "outputs": [],
   "source": [
    "assert atribui_grupos([(-1, -1), (1, 1)], [(1, 2), (-1, -2)]) == [[(1, 1)], [(-1, -1)]]\n",
    "assert [len(g) for g in atribui_grupos(dados.values, dados.values[:5])] == [40, 84, 11, 367, 237]"
   ]
  },
  {
   "cell_type": "markdown",
   "metadata": {},
   "source": [
    "## Passo 8: Calculando o centroide\n",
    "\n",
    "Agora temos uma tarefa bem simples: dado um grupo de pontos, devemos calcular o centróide para fazer a atualização do k-means. Implemente a função centroide que calcula justamente isto."
   ]
  },
  {
   "cell_type": "code",
   "execution_count": null,
   "metadata": {},
   "outputs": [],
   "source": [
    "def centroide(grupo):\n",
    "    \"\"\"\n",
    "    Calcula o centroide (média) de um único grupo de elementos.\n",
    "    \"\"\"\n",
    "    # Converta cada elemento para array para\n",
    "    # simplificar o cálculo :)\n",
    "    elems = [np.asarray(x) for x in grupo]\n",
    "    return ...\n",
    "\n",
    "\n",
    "def centroides(grupos):\n",
    "    \"\"\"\n",
    "    Aplica centroide em cada grupo na lista de grupos e\n",
    "    retorna uma lista de centroides.\n",
    "    \"\"\"\n",
    "    return [centroide(g) for g in grupos]\n",
    "\n",
    "\n",
    "# Exemplo: 2 centroides\n",
    "grupos = [[(1, 1), (2, 2), (0, 2)], [(-5, -4), (-1, -1)]]\n",
    "centroides(grupos)"
   ]
  },
  {
   "cell_type": "code",
   "execution_count": null,
   "metadata": {},
   "outputs": [],
   "source": [
    "assert all(np.all(x == y)\n",
    "           for x, y in zip(centroides([[(1, 1), (2, 2)], [(-5, -4), (-1, -1)]]),\n",
    "                           [np.array([1.5, 1.5]), np.array([-3. , -2.5])]))"
   ]
  },
  {
   "cell_type": "markdown",
   "metadata": {},
   "source": [
    "## Passo 9: Medindo a variação\n",
    "\n",
    "Uma maneira de formalizar o que o K-means está fazendo é entender o algoritmo como um processo de minimização. A discussão matemática completa está além do objetivo deste tutorial. De todo jeito, os matemáticos descobriram que o K-means é um processo que minimiza a variação quadrática em cada etapa do algoritmo. A variação quadrática é a soma dos quadrados das distâncias de cada elemento para o seu respectivo centro. \n",
    "\n",
    "Intuitivamente, podemos pensar que uma variação quadrática pequena corresponde a situação ideal onde cada elemento está muito próximo do seu respectivo centro e portanto foi corretamente classificado. Implemente a função VQ que calcula a variação quadrática do conjunto de dados. A variação quadrática sempre diminui ou se mantêm constante em cada etapa do k-means."
   ]
  },
  {
   "cell_type": "code",
   "execution_count": null,
   "metadata": {},
   "outputs": [],
   "source": [
    "def vq(grupo):\n",
    "    \"\"\"Calcula a variação quadrática\"\"\"\n",
    "    centro = centroide(grupo)\n",
    "    return ...\n",
    "\n",
    "def vq_total(grupos):\n",
    "    \"\"\"Calcula a variação quadrática de todos grupos somados\"\"\"\n",
    "    return sum(vq(g) for g in grupos)\n",
    "\n",
    "# Exemplo\n",
    "vq([(0, 0), (1, 1)])  # vq = 1, porque?"
   ]
  },
  {
   "cell_type": "code",
   "execution_count": null,
   "metadata": {},
   "outputs": [],
   "source": [
    "assert abs(vq([(0, 0), (1, 1)]) - 1) < 1e-3\n",
    "assert abs(vq(dados.values[:100]) - 1292.65) < 1e-1"
   ]
  },
  {
   "cell_type": "markdown",
   "metadata": {},
   "source": [
    "## Passo 10: Iteração completa\n",
    "\n",
    "Vamos realizar uma iteração completa do algoritmo. Isto corresponde aos passos \n",
    "\"encontrar centroides mais próximos\" e depois \"atualizar centroides\" da simulação em http://stanford.edu/class/ee103/visualizations/kmeans/kmeans.html. Observe que a variação quadrática sempre diminui quando fazemos uma iteração. Podemos parar o algortimo de k-means quando a variação quadrática parar de se alterar."
   ]
  },
  {
   "cell_type": "code",
   "execution_count": null,
   "metadata": {},
   "outputs": [],
   "source": [
    "k = 5\n",
    "centros = sorteia_centroides(dados.values, k)"
   ]
  },
  {
   "cell_type": "code",
   "execution_count": null,
   "metadata": {},
   "outputs": [],
   "source": [
    "# Execute esta célula várias vezes para ver o VQ diminuir\n",
    "grupos = atribui_grupos(dados.values, centros)\n",
    "centros = centroides(grupos)\n",
    "print('VQ:', vq_total(grupos))"
   ]
  },
  {
   "cell_type": "markdown",
   "metadata": {},
   "source": [
    "## Passo 11: juntando as partes\n",
    "\n",
    "Vamos colocar cada um destes passos dentro de um loop e executar o algoritmo enquanto\n",
    "a variação quadrática se alterar."
   ]
  },
  {
   "cell_type": "code",
   "execution_count": null,
   "metadata": {
    "hideOutput": true
   },
   "outputs": [],
   "source": [
    "def kmeans(dados, k=4):\n",
    "    \"\"\"\n",
    "    Calcula o K-means para o conjunto de dados.\n",
    "    \"\"\"\n",
    "    \n",
    "    vq_inicial = ...\n",
    "    centros = sorteia_centroides(dados, k)\n",
    "    \n",
    "    while True:\n",
    "        grupos = atribui_grupos(dados, centros)\n",
    "        centros = centroides(grupos)\n",
    "        print('vq:', vq_total(grupos))\n",
    "\n",
    "        ... # Implemente o critério de parada\n",
    "            \n",
    "    # Vamos converter cada grupo para um array 2d ao\n",
    "    # invés de uma lista de arrays\n",
    "    return [np.asarray(g) for g in grupos]\n",
    "\n",
    "\n",
    "# Vamos visualizar os dados com PCA.\n",
    "pca = PCA(2).fit(dados)\n",
    "\n",
    "for group in kmeans(dados.values, 5):\n",
    "    X, Y = pca.transform(group).T\n",
    "    plt.scatter(X, Y, alpha=0.6)\n",
    "plt.show()"
   ]
  },
  {
   "cell_type": "markdown",
   "metadata": {},
   "source": [
    "## Parte 12: Exemplo\n",
    "\n",
    "Aqui montamos um exemplo com dados fictícios."
   ]
  },
  {
   "cell_type": "code",
   "execution_count": null,
   "metadata": {},
   "outputs": [],
   "source": [
    "std = .75\n",
    "g1 = np.random.normal((0, 0), std, size=(500, 2))\n",
    "g2 = np.random.normal((3, 4), std, size=(300, 2))\n",
    "g3 = np.random.normal((3, 0), std, size=(200, 2))\n",
    "completo = np.vstack([g1, g2, g3])\n",
    "\n",
    "X, Y = completo.T\n",
    "plt.scatter(X, Y, alpha=0.5)\n",
    "plt.title('Pontos gerados artificialmente')\n",
    "plt.show()"
   ]
  },
  {
   "cell_type": "code",
   "execution_count": null,
   "metadata": {},
   "outputs": [],
   "source": [
    "K = 3\n",
    "for grupo in kmeans(completo, K):\n",
    "    X, Y = grupo.T\n",
    "    plt.scatter(X, Y, alpha=0.5)\n",
    "plt.title('K-means')\n",
    "plt.show()"
   ]
  }
 ],
 "metadata": {
  "kernelspec": {
   "display_name": "Python 3",
   "language": "python",
   "name": "python3"
  },
  "language_info": {
   "codemirror_mode": {
    "name": "ipython",
    "version": 3
   },
   "file_extension": ".py",
   "mimetype": "text/x-python",
   "name": "python",
   "nbconvert_exporter": "python",
   "pygments_lexer": "ipython3",
   "version": "3.7.2"
  }
 },
 "nbformat": 4,
 "nbformat_minor": 2
}
