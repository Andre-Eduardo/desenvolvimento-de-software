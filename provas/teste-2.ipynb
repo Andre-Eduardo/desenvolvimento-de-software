{
 "cells": [
  {
   "cell_type": "markdown",
   "metadata": {},
   "source": [
    "# Exercício interativo"
   ]
  },
  {
   "cell_type": "markdown",
   "metadata": {},
   "source": [
    "Antes da submissão final do seu problema, certifique que tudo funciona como esperado. Primeiro, **reinicie o kernel** (Kernel$\\rightarrow$Restart) e depois **execute todas as células** (Cell$\\rightarrow$Run All).\n",
    "\n",
    "Preencha todos lugares que digam `SUA SOLUÇÃO` or `YOUR ANSWER HERE`, e o seu nome e dos colaboradores (outros alunos no grupo) abaixo."
   ]
  },
  {
   "cell_type": "code",
   "execution_count": null,
   "metadata": {},
   "outputs": [],
   "source": [
    "NAME = \"\"\n",
    "COLLABORATORS = \"\""
   ]
  },
  {
   "cell_type": "markdown",
   "metadata": {},
   "source": [
    "---"
   ]
  },
  {
   "cell_type": "markdown",
   "metadata": {
    "deletable": false,
    "editable": false,
    "nbgrader": {
     "checksum": "e4dea518d7b196f8f8365dc62c29027e",
     "grade": false,
     "grade_id": "jupyter",
     "locked": true,
     "schema_version": 1,
     "solution": false
    }
   },
   "source": [
    "Este teste utiliza o Jupyter notebook.\n",
    "\n",
    "![](jupyter.png)\n",
    "\n",
    "## Instruções\n",
    "\n",
    "* Teste pode ser resolvido individualmente ou em dupla\n",
    "* Não pode colar/plagiar outras duplas\n",
    "* Você pode consultar a internet ou a documentação do Python, mas não pode copiar as respostas.\n",
    "* Será realizada uma etapa posterior para detecção de plágio. Provas que contenham plágio serão anuladas."
   ]
  },
  {
   "cell_type": "markdown",
   "metadata": {
    "deletable": false,
    "editable": false,
    "nbgrader": {
     "checksum": "9b2762a73c893b462b45a5c03838381d",
     "grade": false,
     "grade_id": "cell-0bd71df71daefa41",
     "locked": true,
     "schema_version": 1,
     "solution": false
    }
   },
   "source": [
    "---\n",
    "## Média e variância (2,0 pts)\n",
    "\n",
    "Crie uma função que receba uma lista de valores e retorne uma dupla com a média e o desvio padrão do conjunto.\n",
    "O desvio padrão é a raiz quadrada da variância, que pode ser calculada como a soma dos quadrados menos o quadrado da soma dividido pelo número de elementos."
   ]
  },
  {
   "cell_type": "code",
   "execution_count": null,
   "metadata": {
    "deletable": false,
    "nbgrader": {
     "checksum": "f6a8a73339758b5871abd8c5d83a7410",
     "grade": false,
     "grade_id": "stats",
     "locked": false,
     "schema_version": 1,
     "solution": true
    }
   },
   "outputs": [],
   "source": [
    "from math import sqrt\n",
    "\n",
    "\n",
    "def stats(valores):\n",
    "    \"\"\"Retorna a (media, desvpad) do conjunto de números fornecido.\"\"\"\n",
    "    NotImplemented # escreva sua solução aqui...\n",
    "    return media, desvpad"
   ]
  },
  {
   "cell_type": "markdown",
   "metadata": {},
   "source": [
    "A média e desvio padrão dos números [1, 2, 3] são respectivamente 2 e 0.8165. Verifique o resultado."
   ]
  },
  {
   "cell_type": "code",
   "execution_count": null,
   "metadata": {},
   "outputs": [],
   "source": [
    "stats([1, 2, 3])"
   ]
  },
  {
   "cell_type": "code",
   "execution_count": null,
   "metadata": {
    "deletable": false,
    "editable": false,
    "nbgrader": {
     "checksum": "84d3c460a95e6c9c62e2b0648c874013",
     "grade": true,
     "grade_id": "stats-test",
     "locked": false,
     "points": 2,
     "schema_version": 1,
     "solution": false
    }
   },
   "outputs": [],
   "source": [
    "\"\"\"Verifica se a função foi implementada corretamente.\"\"\"\n",
    "assert stats([1, 1, 1]) == (1, 0)\n",
    "assert stats([-1, 0, 1]) == (0, sqrt(2/3))\n",
    "assert stats(range(100)) == (49.5, 28.86607004772212)\n",
    "print('Parabéns!')"
   ]
  },
  {
   "cell_type": "markdown",
   "metadata": {
    "deletable": false,
    "editable": false,
    "nbgrader": {
     "checksum": "5826427af10cda68f9de1b88d338e2e0",
     "grade": false,
     "grade_id": "cell-0bd71dfsasdaojfaosjofa",
     "locked": true,
     "schema_version": 1,
     "solution": false
    }
   },
   "source": [
    "---\n",
    "## Sistema de registro (4,0)\n",
    "\n",
    "Um sistema possui um módulo de autenticação em que os usuários podem iniciar uma seção após a verificação de senha e e-mail. As informações dos usuários são armazenadas na lista USUARIOS. Você deve implementar as funções de login() e recuperar_senha() para passar nos testes abaixo."
   ]
  },
  {
   "cell_type": "code",
   "execution_count": null,
   "metadata": {
    "deletable": false,
    "nbgrader": {
     "checksum": "fed44e9823471272e55b0fefff910af9",
     "grade": false,
     "grade_id": "registro",
     "locked": false,
     "schema_version": 1,
     "solution": true
    }
   },
   "outputs": [],
   "source": [
    "# Não edite a lista de usuários\n",
    "USUARIOS = [\n",
    "    {\n",
    "        'nome': 'Ada Lovelace',\n",
    "        'emails': ['ada@gmail.co.uk', 'algo-ada@hotmail.com'],\n",
    "        'nascimento': (1815, 12, 10),\n",
    "        'senha': 'algoritmo',\n",
    "    },\n",
    "    {\n",
    "        'nome': 'Alan Turing',\n",
    "        'emails': ['turing@gmail.co.uk'],\n",
    "        'nascimento': (1912, 6, 23),\n",
    "        'senha': 'enigma',\n",
    "    },\n",
    "    {\n",
    "        'nome': 'Grace Hopper',\n",
    "        'emails': ['amazing-grace@usnavy.gov'],\n",
    "        'nascimento': (1906, 12, 9),\n",
    "        'senha': 'cobol',\n",
    "    },\n",
    "    {\n",
    "        'nome': 'Donald Knuth',\n",
    "        'emails': ['knuth@gmail.com', 'art-of-programming@caltech.edu'],\n",
    "        'nascimento': (1938, 1, 10),\n",
    "        'senha': 'LaTeX',\n",
    "    },\n",
    "]\n",
    "\n",
    "def login(email, senha):\n",
    "    \"\"\"\n",
    "    Retorna um usuário caso o e-mail e senha estejam corretos. Retorna None caso contrário.\n",
    "    \"\"\"\n",
    "    NotImplemented # escreva sua solução aqui...\n",
    "    return None\n",
    "\n",
    "\n",
    "def recuperar_senha(email, nascimento):\n",
    "    \"\"\"\n",
    "    Mostra a senha do usuário ou uma mensagem de erro caso o e-mail seja \n",
    "    inválido ou a data de nascimento não corresponda à correta.\n",
    "    \"\"\"\n",
    "    NotImplemented # escreva sua solução aqui...\n",
    "    return 'Data de nascimento ou e-mail inválidos'"
   ]
  },
  {
   "cell_type": "code",
   "execution_count": null,
   "metadata": {
    "deletable": false,
    "editable": false,
    "nbgrader": {
     "checksum": "7d143bb0939fd45d1dca31b1e986ee08",
     "grade": true,
     "grade_id": "registro-login-1",
     "locked": true,
     "points": 1,
     "schema_version": 1,
     "solution": false
    }
   },
   "outputs": [],
   "source": [
    "\"Testes para a função de login()\"\n",
    "\n",
    "assert login('turing@gmail.co.uk', 'enigma') == USUARIOS[1]\n",
    "assert login('turing@gmail.co.uk', 'password-incorreto') is None\n",
    "assert login('ada@gmail.co.uk', 'algoritmo') == USUARIOS[0]\n",
    "print('Parabéns!')"
   ]
  },
  {
   "cell_type": "code",
   "execution_count": null,
   "metadata": {
    "deletable": false,
    "editable": false,
    "nbgrader": {
     "checksum": "985f63bdecad89d6d1797b08670088dc",
     "grade": true,
     "grade_id": "registro-login-2",
     "locked": true,
     "points": 1,
     "schema_version": 1,
     "solution": false
    }
   },
   "outputs": [],
   "source": [
    "\"Testes para a função de login() - múltiplos e-mails\"\n",
    "\n",
    "assert login('knuth@gmail.com', 'LaTeX') == USUARIOS[-1]\n",
    "assert login('art-of-programming@caltech.edu', 'LaTeX') == USUARIOS[-1]\n",
    "assert login('art-of-programming@caltech.edu', 'latex') is None\n",
    "print('Parabéns!')"
   ]
  },
  {
   "cell_type": "code",
   "execution_count": null,
   "metadata": {
    "deletable": false,
    "editable": false,
    "nbgrader": {
     "checksum": "37ac3d374f0fcdef572fb48006f889cd",
     "grade": true,
     "grade_id": "registro-recuperar-1",
     "locked": true,
     "points": 1,
     "schema_version": 1,
     "solution": false
    }
   },
   "outputs": [],
   "source": [
    "\"Testes para a função recuperar_senha() - casos de sucesso\"\n",
    "\n",
    "assert recuperar_senha('turing@gmail.co.uk', (1912, 6, 23)) == 'A senha é \"enigma\"'\n",
    "assert recuperar_senha('amazing-grace@usnavy.gov', (1906, 12, 9)) == 'A senha é \"cobol\"'\n",
    "print('Parabéns!')"
   ]
  },
  {
   "cell_type": "code",
   "execution_count": null,
   "metadata": {
    "deletable": false,
    "editable": false,
    "nbgrader": {
     "checksum": "b2e71da55bc21c05ea6784583e93223f",
     "grade": true,
     "grade_id": "registro-recuperar-2",
     "locked": true,
     "points": 1,
     "schema_version": 1,
     "solution": false
    }
   },
   "outputs": [],
   "source": [
    "\"Testes para a função recuperar_senha() - casos de erro\"\n",
    "\n",
    "assert recuperar_senha('turing@gmail.co.uk', (1901, 2, 30)) == 'Data de nascimento ou e-mail inválidos'\n",
    "assert recuperar_senha('bad@email.com.br', (1912, 6, 23)) == 'Data de nascimento ou e-mail inválidos'\n",
    "print('Parabéns!')"
   ]
  },
  {
   "cell_type": "markdown",
   "metadata": {
    "deletable": false,
    "editable": false,
    "nbgrader": {
     "checksum": "bb988aac8b10ac21cb9f7fcd7f0a985d",
     "grade": false,
     "grade_id": "cell-99df9d8hf98dhf98",
     "locked": true,
     "schema_version": 1,
     "solution": false
    }
   },
   "source": [
    "---\n",
    "## Índice Gini (4,0)\n",
    "\n",
    "O índice [Gini](http://www.ipea.gov.br/desafios/index.php?option=com_content&id=2048:catid=28) é uma medida de desigualdade de renda ou outros recursos criada pelo matemático italiano Conrado Gini. Seu valor varia de 0 (distribuição completamente equalitária) até 1 (uma única pessoa concentra todos recursos). Vamos criar uma função que calcula o índice Gini a partir de uma lista de valores.\n",
    "\n",
    "Como esta tarefa é um pouco complicada, este exercício foi dividido em várias partes.\n",
    "\n",
    "![Curva Gini](https://s1.static.brasilescola.uol.com.br/img/2015/06/grafico-do-indice-de-gini.jpg)"
   ]
  },
  {
   "cell_type": "markdown",
   "metadata": {
    "deletable": false,
    "editable": false,
    "nbgrader": {
     "checksum": "e659e88fa5f7ed1b76df9eb8a9b71b4b",
     "grade": false,
     "grade_id": "cell-ca507f3f1e8644fe",
     "locked": true,
     "schema_version": 1,
     "solution": false
    }
   },
   "source": [
    "### Índice Gini Riqueza acumulada\n",
    "\n",
    "O primeiro passo para o cálculo do índice Gini é obter a lista de riquezas acumuladas. Para isso, crie uma função chamada `soma_acc()` que recebe uma lista de valores e recebe o valor das somas acumuladas. Considere a lista de entrada `[a, b, c, ...]`. A saída das somas acumuladas é dada por `[a, a + b, a + b + c, ...]`."
   ]
  },
  {
   "cell_type": "code",
   "execution_count": null,
   "metadata": {
    "deletable": false,
    "nbgrader": {
     "checksum": "4ee96fab54bebbb695ab639d61d848b1",
     "grade": false,
     "grade_id": "gini-acc",
     "locked": false,
     "schema_version": 1,
     "solution": true
    }
   },
   "outputs": [],
   "source": [
    "def soma_acc(valores):\n",
    "    \"\"\"\n",
    "    Retorna as somas parciais da lista de valores\n",
    "    \"\"\"\n",
    "    NotImplemented # escreva sua solução aqui..."
   ]
  },
  {
   "cell_type": "code",
   "execution_count": null,
   "metadata": {
    "deletable": false,
    "editable": false,
    "nbgrader": {
     "checksum": "6e4134906e47f4af5f753b2f52f30a71",
     "grade": true,
     "grade_id": "gini-acc-tests",
     "locked": true,
     "points": 1.5,
     "schema_version": 1,
     "solution": false
    }
   },
   "outputs": [],
   "source": [
    "\"Testes para a função recuperar_senha() - casos de erro\"\n",
    "\n",
    "assert soma_acc([1, 2, 3, 4]) == [1, 3, 6, 10]\n",
    "assert soma_acc([4, 3, 2, 1]) == [4, 7, 9, 10]\n",
    "assert soma_acc([42]) == [42]\n",
    "print('Parabéns!')"
   ]
  },
  {
   "cell_type": "markdown",
   "metadata": {
    "deletable": false,
    "editable": false,
    "nbgrader": {
     "checksum": "889527813c2b2553d4b48127175b7f38",
     "grade": false,
     "grade_id": "cell-abe19e7b8277cb92",
     "locked": true,
     "schema_version": 1,
     "solution": false
    }
   },
   "source": [
    "### Gini: área embaixo da curva\n",
    "\n",
    "Normalizando tanto o eixo x quanto o eixo y de 0 até 1, a área embaixo da reta de total igualdade é igual a 0.5. Podemos calcular a área da curva da riqueza acumulada (curva de Lorenz) aproximando a integral por uma soma usando o ponto final de cada intervalo como a altura de cada elemento na curva\n",
    "\n",
    "![Aproximação da integral](https://upload.wikimedia.org/wikipedia/commons/4/45/RightRiemann2.svg)\n",
    "\n",
    "Obs.: lembre-se que o primeiro elemento começa em (0, 0) e diz que zero porcento da riqueza foi acumulado pelos\n",
    "zero porcento mais pobre da população.\n",
    "\n",
    "Crie uma função que recebe uma lista de valores e retorne a área abaixo da curva de Lorenz."
   ]
  },
  {
   "cell_type": "code",
   "execution_count": null,
   "metadata": {
    "deletable": false,
    "nbgrader": {
     "checksum": "ceeee08649fa695f0419a671d5359e09",
     "grade": false,
     "grade_id": "gini-area",
     "locked": false,
     "schema_version": 1,
     "solution": true
    }
   },
   "outputs": [],
   "source": [
    "def area_curva(valores):\n",
    "    \"\"\"\n",
    "    Calcula a área da curva de Lorenz para o conjunto de \n",
    "    valores dados.\n",
    "    \"\"\"\n",
    "    NotImplemented # escreva sua solução aqui..."
   ]
  },
  {
   "cell_type": "code",
   "execution_count": null,
   "metadata": {
    "deletable": false,
    "editable": false,
    "nbgrader": {
     "checksum": "d7ba1c821e3bde8892d277d19449c7b6",
     "grade": true,
     "grade_id": "gini-area-testes",
     "locked": true,
     "points": 1.5,
     "schema_version": 1,
     "solution": false
    }
   },
   "outputs": [],
   "source": [
    "\"Testa a área abaixo da curva de Lorenz\"\n",
    "\n",
    "assert area_curva([1, 1, 1]) == area_curva([2, 2, 2, 2]) == 0.5\n",
    "assert area_curva([1, 2, 3, 4]) == 0.4\n",
    "assert area_curva([0, 0, 0, 0, 0, 0, 1]) == 0.125\n",
    "print('Parabéns!')"
   ]
  },
  {
   "cell_type": "markdown",
   "metadata": {
    "deletable": false,
    "editable": false,
    "nbgrader": {
     "checksum": "a3e43ef8a124d212b5aa70bfa7571788",
     "grade": false,
     "grade_id": "cell-d1fc0bf8c3986c08",
     "locked": true,
     "schema_version": 1,
     "solution": false
    }
   },
   "source": [
    "### Gini: cálculo do coeficiente\n",
    "\n",
    "Para finalizar temos que fazer apenas alguns ajustes. Primeiramente, a lista de valores de entrada deve ser\n",
    "ordenada (utilize a função `sorted` do Python). Em seguida, retornamos o coeficiente Gini como a área entre as duas curvas dividida pela área abaixo da reta de total igualdade."
   ]
  },
  {
   "cell_type": "code",
   "execution_count": null,
   "metadata": {
    "deletable": false,
    "nbgrader": {
     "checksum": "45875c706b6987815b5874003d612e12",
     "grade": false,
     "grade_id": "cell-3162f7f61b141ea9",
     "locked": false,
     "schema_version": 1,
     "solution": true
    }
   },
   "outputs": [],
   "source": [
    "def gini(valores):\n",
    "    \"\"\"\n",
    "    Calcula o coeficiente Gini a partir dos valores.\n",
    "    \"\"\"\n",
    "    NotImplemented # escreva sua solução aqui..."
   ]
  },
  {
   "cell_type": "code",
   "execution_count": null,
   "metadata": {
    "deletable": false,
    "editable": false,
    "nbgrader": {
     "checksum": "e15b6bd3613c5b8bd15289bc1a55dc1b",
     "grade": true,
     "grade_id": "gini-especiais",
     "locked": true,
     "points": 0.5,
     "schema_version": 1,
     "solution": false
    }
   },
   "outputs": [],
   "source": [
    "\"Gini, casos especiais\"\n",
    "assert gini([1, 1, 1, 1]) == 0\n",
    "assert gini([0, 0, 0, 0, 0, 0, 1]) == 0.75\n",
    "assert gini([1, 0, 0, 0, 0, 0, 0]) == 0.75\n",
    "print('Parabéns!')"
   ]
  },
  {
   "cell_type": "code",
   "execution_count": null,
   "metadata": {
    "deletable": false,
    "editable": false,
    "nbgrader": {
     "checksum": "c3ae8ad878cba3e1899eeb084c71bd4b",
     "grade": true,
     "grade_id": "gini-exemplos",
     "locked": true,
     "points": 0.5,
     "schema_version": 1,
     "solution": false
    }
   },
   "outputs": [],
   "source": [
    "\"Gini, exemplos\"\n",
    "\n",
    "assert abs(gini([1, 2, 3, 4]) - 0.20) < 0.1\n",
    "assert abs(gini([1, 1, 1, 2, 4, 8, 16, 32, 64]) - 0.59) < 0.1  # ~Brasil\n",
    "print('Parabéns!')"
   ]
  }
 ],
 "metadata": {
  "kernelspec": {
   "display_name": "Python 3",
   "language": "python",
   "name": "python3"
  },
  "language_info": {
   "codemirror_mode": {
    "name": "ipython",
    "version": 3
   },
   "file_extension": ".py",
   "mimetype": "text/x-python",
   "name": "python",
   "nbconvert_exporter": "python",
   "pygments_lexer": "ipython3",
   "version": "3.7.3"
  }
 },
 "nbformat": 4,
 "nbformat_minor": 1
}
